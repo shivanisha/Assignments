{
 "cells": [
  {
   "cell_type": "markdown",
   "metadata": {},
   "source": [
    "### myreduce function"
   ]
  },
  {
   "cell_type": "code",
   "execution_count": 43,
   "metadata": {},
   "outputs": [
    {
     "name": "stdout",
     "output_type": "stream",
     "text": [
      "120\n"
     ]
    }
   ],
   "source": [
    "def add(a,b):\n",
    "    return a*b\n",
    "def myreduce(myfun, lst):\n",
    "    val = myfun(lst[0],lst[1])\n",
    "    for i in range(2,len(lst)):\n",
    "        val = myfun(lst[i],val)\n",
    "    return val\n",
    "mylst = [1,2,3,4,5]\n",
    "print(myreduce(add,mylst))"
   ]
  },
  {
   "cell_type": "code",
   "execution_count": 42,
   "metadata": {},
   "outputs": [
    {
     "name": "stdout",
     "output_type": "stream",
     "text": [
      "120\n"
     ]
    }
   ],
   "source": [
    "# my reduce function using lanbda function\n",
    "def myreduce(myfun, lst):\n",
    "    val =myfun(lst[0],lst[1])\n",
    "    for i in range(2,len(lst)):\n",
    "        val = myfun(lst[i],val)\n",
    "        #print(val)\n",
    "    return val\n",
    "mylst = [1,2,3,4,5]\n",
    "print(myreduce((lambda x,y:x*y) ,mylst))"
   ]
  },
  {
   "cell_type": "code",
   "execution_count": 48,
   "metadata": {},
   "outputs": [
    {
     "name": "stdout",
     "output_type": "stream",
     "text": [
      "12\n",
      "18\n",
      "24\n",
      "32\n"
     ]
    }
   ],
   "source": [
    "### Myfilter funtion\n",
    "ages = [5, 12, 17, 18, 24, 32]\n",
    "\n",
    "def myfilter(fun,lst):\n",
    "    mylst = []\n",
    "    for i in lst:\n",
    "        #print(i)\n",
    "        if(fun(i)):\n",
    "            mylst.append(i)\n",
    "            #print(mylst)\n",
    "    return mylst\n",
    "\n",
    "adults = myfilter((lambda x : x%2==0) , ages)\n",
    "\n",
    "for x in adults:\n",
    "  print(x)"
   ]
  },
  {
   "cell_type": "code",
   "execution_count": null,
   "metadata": {},
   "outputs": [],
   "source": []
  }
 ],
 "metadata": {
  "kernelspec": {
   "display_name": "Python 3",
   "language": "python",
   "name": "python3"
  },
  "language_info": {
   "codemirror_mode": {
    "name": "ipython",
    "version": 3
   },
   "file_extension": ".py",
   "mimetype": "text/x-python",
   "name": "python",
   "nbconvert_exporter": "python",
   "pygments_lexer": "ipython3",
   "version": "3.8.5"
  }
 },
 "nbformat": 4,
 "nbformat_minor": 4
}
